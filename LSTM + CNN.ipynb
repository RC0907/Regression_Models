{
 "cells": [
  {
   "cell_type": "code",
   "execution_count": 1,
   "metadata": {},
   "outputs": [],
   "source": [
    "import numpy as np\n",
    "import pandas as pd\n",
    "import matplotlib.pyplot as plt\n",
    "import seaborn as sns"
   ]
  },
  {
   "cell_type": "code",
   "execution_count": 2,
   "metadata": {},
   "outputs": [],
   "source": [
    "index_names = ['unit_number', 'time_cycles']\n",
    "setting_names = ['opp_set_1', 'opp_set_2', 'opp_set_3']\n",
    "sensor_names = ['s_m{}'.format(i+1) for i in range(0,21)]\n",
    "col_names = index_names + setting_names + sensor_names"
   ]
  },
  {
   "cell_type": "code",
   "execution_count": 3,
   "metadata": {},
   "outputs": [
    {
     "name": "stderr",
     "output_type": "stream",
     "text": [
      "/var/folders/ls/cldmn3dj6mx5c8nw38zdl7yw0000gn/T/ipykernel_14004/3696279310.py:1: ParserWarning: Length of header or names does not match length of data. This leads to a loss of data with index_col=False.\n",
      "  train = pd.read_csv('/Users/rahulchauhan/Downloads/CMaps/train_FD001.txt',sep=' ', index_col=False, header=None, names=col_names)\n",
      "/var/folders/ls/cldmn3dj6mx5c8nw38zdl7yw0000gn/T/ipykernel_14004/3696279310.py:2: ParserWarning: Length of header or names does not match length of data. This leads to a loss of data with index_col=False.\n",
      "  test = pd.read_csv('/Users/rahulchauhan/Downloads/CMaps/test_FD001.txt',sep = ' ',index_col= False,header=None,names = col_names)\n"
     ]
    }
   ],
   "source": [
    "train = pd.read_csv('/Users/rahulchauhan/Downloads/CMaps/train_FD001.txt',sep=' ', index_col=False, header=None, names=col_names)\n",
    "test = pd.read_csv('/Users/rahulchauhan/Downloads/CMaps/test_FD001.txt',sep = ' ',index_col= False,header=None,names = col_names)\n",
    "RUL = pd.read_csv('/Users/rahulchauhan/Downloads/CMaps/RUL_FD001.txt',sep = ' ',index_col= False,header=None,names = ['RUL'])"
   ]
  },
  {
   "cell_type": "code",
   "execution_count": 4,
   "metadata": {},
   "outputs": [
    {
     "data": {
      "text/html": [
       "<div>\n",
       "<style scoped>\n",
       "    .dataframe tbody tr th:only-of-type {\n",
       "        vertical-align: middle;\n",
       "    }\n",
       "\n",
       "    .dataframe tbody tr th {\n",
       "        vertical-align: top;\n",
       "    }\n",
       "\n",
       "    .dataframe thead th {\n",
       "        text-align: right;\n",
       "    }\n",
       "</style>\n",
       "<table border=\"1\" class=\"dataframe\">\n",
       "  <thead>\n",
       "    <tr style=\"text-align: right;\">\n",
       "      <th></th>\n",
       "      <th>unit_number</th>\n",
       "      <th>time_cycles</th>\n",
       "      <th>opp_set_1</th>\n",
       "      <th>opp_set_2</th>\n",
       "      <th>opp_set_3</th>\n",
       "      <th>s_m1</th>\n",
       "      <th>s_m2</th>\n",
       "      <th>s_m3</th>\n",
       "      <th>s_m4</th>\n",
       "      <th>s_m5</th>\n",
       "      <th>...</th>\n",
       "      <th>s_m12</th>\n",
       "      <th>s_m13</th>\n",
       "      <th>s_m14</th>\n",
       "      <th>s_m15</th>\n",
       "      <th>s_m16</th>\n",
       "      <th>s_m17</th>\n",
       "      <th>s_m18</th>\n",
       "      <th>s_m19</th>\n",
       "      <th>s_m20</th>\n",
       "      <th>s_m21</th>\n",
       "    </tr>\n",
       "  </thead>\n",
       "  <tbody>\n",
       "    <tr>\n",
       "      <th>0</th>\n",
       "      <td>1</td>\n",
       "      <td>1</td>\n",
       "      <td>-0.0007</td>\n",
       "      <td>-0.0004</td>\n",
       "      <td>100.0</td>\n",
       "      <td>518.67</td>\n",
       "      <td>641.82</td>\n",
       "      <td>1589.70</td>\n",
       "      <td>1400.60</td>\n",
       "      <td>14.62</td>\n",
       "      <td>...</td>\n",
       "      <td>521.66</td>\n",
       "      <td>2388.02</td>\n",
       "      <td>8138.62</td>\n",
       "      <td>8.4195</td>\n",
       "      <td>0.03</td>\n",
       "      <td>392</td>\n",
       "      <td>2388</td>\n",
       "      <td>100.0</td>\n",
       "      <td>39.06</td>\n",
       "      <td>23.4190</td>\n",
       "    </tr>\n",
       "    <tr>\n",
       "      <th>1</th>\n",
       "      <td>1</td>\n",
       "      <td>2</td>\n",
       "      <td>0.0019</td>\n",
       "      <td>-0.0003</td>\n",
       "      <td>100.0</td>\n",
       "      <td>518.67</td>\n",
       "      <td>642.15</td>\n",
       "      <td>1591.82</td>\n",
       "      <td>1403.14</td>\n",
       "      <td>14.62</td>\n",
       "      <td>...</td>\n",
       "      <td>522.28</td>\n",
       "      <td>2388.07</td>\n",
       "      <td>8131.49</td>\n",
       "      <td>8.4318</td>\n",
       "      <td>0.03</td>\n",
       "      <td>392</td>\n",
       "      <td>2388</td>\n",
       "      <td>100.0</td>\n",
       "      <td>39.00</td>\n",
       "      <td>23.4236</td>\n",
       "    </tr>\n",
       "    <tr>\n",
       "      <th>2</th>\n",
       "      <td>1</td>\n",
       "      <td>3</td>\n",
       "      <td>-0.0043</td>\n",
       "      <td>0.0003</td>\n",
       "      <td>100.0</td>\n",
       "      <td>518.67</td>\n",
       "      <td>642.35</td>\n",
       "      <td>1587.99</td>\n",
       "      <td>1404.20</td>\n",
       "      <td>14.62</td>\n",
       "      <td>...</td>\n",
       "      <td>522.42</td>\n",
       "      <td>2388.03</td>\n",
       "      <td>8133.23</td>\n",
       "      <td>8.4178</td>\n",
       "      <td>0.03</td>\n",
       "      <td>390</td>\n",
       "      <td>2388</td>\n",
       "      <td>100.0</td>\n",
       "      <td>38.95</td>\n",
       "      <td>23.3442</td>\n",
       "    </tr>\n",
       "    <tr>\n",
       "      <th>3</th>\n",
       "      <td>1</td>\n",
       "      <td>4</td>\n",
       "      <td>0.0007</td>\n",
       "      <td>0.0000</td>\n",
       "      <td>100.0</td>\n",
       "      <td>518.67</td>\n",
       "      <td>642.35</td>\n",
       "      <td>1582.79</td>\n",
       "      <td>1401.87</td>\n",
       "      <td>14.62</td>\n",
       "      <td>...</td>\n",
       "      <td>522.86</td>\n",
       "      <td>2388.08</td>\n",
       "      <td>8133.83</td>\n",
       "      <td>8.3682</td>\n",
       "      <td>0.03</td>\n",
       "      <td>392</td>\n",
       "      <td>2388</td>\n",
       "      <td>100.0</td>\n",
       "      <td>38.88</td>\n",
       "      <td>23.3739</td>\n",
       "    </tr>\n",
       "    <tr>\n",
       "      <th>4</th>\n",
       "      <td>1</td>\n",
       "      <td>5</td>\n",
       "      <td>-0.0019</td>\n",
       "      <td>-0.0002</td>\n",
       "      <td>100.0</td>\n",
       "      <td>518.67</td>\n",
       "      <td>642.37</td>\n",
       "      <td>1582.85</td>\n",
       "      <td>1406.22</td>\n",
       "      <td>14.62</td>\n",
       "      <td>...</td>\n",
       "      <td>522.19</td>\n",
       "      <td>2388.04</td>\n",
       "      <td>8133.80</td>\n",
       "      <td>8.4294</td>\n",
       "      <td>0.03</td>\n",
       "      <td>393</td>\n",
       "      <td>2388</td>\n",
       "      <td>100.0</td>\n",
       "      <td>38.90</td>\n",
       "      <td>23.4044</td>\n",
       "    </tr>\n",
       "  </tbody>\n",
       "</table>\n",
       "<p>5 rows × 26 columns</p>\n",
       "</div>"
      ],
      "text/plain": [
       "   unit_number  time_cycles  opp_set_1  opp_set_2  opp_set_3    s_m1    s_m2  \\\n",
       "0            1            1    -0.0007    -0.0004      100.0  518.67  641.82   \n",
       "1            1            2     0.0019    -0.0003      100.0  518.67  642.15   \n",
       "2            1            3    -0.0043     0.0003      100.0  518.67  642.35   \n",
       "3            1            4     0.0007     0.0000      100.0  518.67  642.35   \n",
       "4            1            5    -0.0019    -0.0002      100.0  518.67  642.37   \n",
       "\n",
       "      s_m3     s_m4   s_m5  ...   s_m12    s_m13    s_m14   s_m15  s_m16  \\\n",
       "0  1589.70  1400.60  14.62  ...  521.66  2388.02  8138.62  8.4195   0.03   \n",
       "1  1591.82  1403.14  14.62  ...  522.28  2388.07  8131.49  8.4318   0.03   \n",
       "2  1587.99  1404.20  14.62  ...  522.42  2388.03  8133.23  8.4178   0.03   \n",
       "3  1582.79  1401.87  14.62  ...  522.86  2388.08  8133.83  8.3682   0.03   \n",
       "4  1582.85  1406.22  14.62  ...  522.19  2388.04  8133.80  8.4294   0.03   \n",
       "\n",
       "   s_m17  s_m18  s_m19  s_m20    s_m21  \n",
       "0    392   2388  100.0  39.06  23.4190  \n",
       "1    392   2388  100.0  39.00  23.4236  \n",
       "2    390   2388  100.0  38.95  23.3442  \n",
       "3    392   2388  100.0  38.88  23.3739  \n",
       "4    393   2388  100.0  38.90  23.4044  \n",
       "\n",
       "[5 rows x 26 columns]"
      ]
     },
     "execution_count": 4,
     "metadata": {},
     "output_type": "execute_result"
    }
   ],
   "source": [
    "train.head()"
   ]
  },
  {
   "cell_type": "code",
   "execution_count": 5,
   "metadata": {},
   "outputs": [
    {
     "name": "stdout",
     "output_type": "stream",
     "text": [
      "(20631, 26)\n",
      "(13096, 26)\n",
      "(100, 1)\n"
     ]
    }
   ],
   "source": [
    "print(train.shape)\n",
    "print(test.shape)\n",
    "print(RUL.shape)"
   ]
  },
  {
   "cell_type": "code",
   "execution_count": 6,
   "metadata": {},
   "outputs": [],
   "source": [
    "def add_rul(g):\n",
    "    # Calculate the RUL as the difference between the maximum cycle value and the cycle value for each row\n",
    "    g['RUL'] = max(g['time_cycles']) - g['time_cycles']\n",
    "    return g\n",
    "\n",
    "# Apply the add_rul function to the training data grouped by the unit ID\n",
    "train_data = train.groupby('unit_number').apply(add_rul)"
   ]
  },
  {
   "cell_type": "code",
   "execution_count": 7,
   "metadata": {},
   "outputs": [
    {
     "name": "stderr",
     "output_type": "stream",
     "text": [
      "/Users/rahulchauhan/Library/Python/3.9/lib/python/site-packages/numpy/lib/function_base.py:2897: RuntimeWarning: invalid value encountered in divide\n",
      "  c /= stddev[:, None]\n",
      "/Users/rahulchauhan/Library/Python/3.9/lib/python/site-packages/numpy/lib/function_base.py:2898: RuntimeWarning: invalid value encountered in divide\n",
      "  c /= stddev[None, :]\n"
     ]
    },
    {
     "data": {
      "text/plain": [
       "unit_number    7.875253e-02\n",
       "time_cycles   -7.362406e-01\n",
       "opp_set_1     -3.198458e-03\n",
       "opp_set_2     -1.947628e-03\n",
       "opp_set_3               NaN\n",
       "s_m1                    NaN\n",
       "s_m2          -6.064840e-01\n",
       "s_m3          -5.845204e-01\n",
       "s_m4          -6.789482e-01\n",
       "s_m5          -5.849749e-16\n",
       "s_m6          -1.283484e-01\n",
       "s_m7           6.572227e-01\n",
       "s_m8          -5.639684e-01\n",
       "s_m9          -3.901016e-01\n",
       "s_m10                   NaN\n",
       "s_m11         -6.962281e-01\n",
       "s_m12          6.719831e-01\n",
       "s_m13         -5.625688e-01\n",
       "s_m14         -3.067689e-01\n",
       "s_m15         -6.426670e-01\n",
       "s_m16         -5.849749e-16\n",
       "s_m17         -6.061536e-01\n",
       "s_m18                   NaN\n",
       "s_m19                   NaN\n",
       "s_m20          6.294285e-01\n",
       "s_m21          6.356620e-01\n",
       "RUL            1.000000e+00\n",
       "dtype: float64"
      ]
     },
     "execution_count": 7,
     "metadata": {},
     "output_type": "execute_result"
    }
   ],
   "source": [
    "train_data.corrwith(train_data['RUL'])"
   ]
  },
  {
   "cell_type": "code",
   "execution_count": 8,
   "metadata": {},
   "outputs": [],
   "source": [
    "def process_targets(data_length, early_rul = None):\n",
    "    if early_rul == None:\n",
    "        return np.arange(data_length-1, -1, -1)\n",
    "    else:\n",
    "        early_rul_duration = data_length - early_rul\n",
    "        if early_rul_duration <= 0:\n",
    "            return np.arange(data_length-1, -1, -1)\n",
    "        else:\n",
    "            return np.append(early_rul*np.ones(shape = (early_rul_duration,)), np.arange(early_rul-1, -1, -1))"
   ]
  },
  {
   "cell_type": "code",
   "execution_count": 9,
   "metadata": {},
   "outputs": [],
   "source": [
    "def process_input_data_with_targets(input_data, target_data = None, window_length = 1, shift = 1):\n",
    "    num_batches = int(np.floor((len(input_data) - window_length)/shift)) + 1\n",
    "    num_features = input_data.shape[1]\n",
    "    output_data = np.repeat(np.nan, repeats = num_batches * window_length * num_features).reshape(num_batches, window_length,\n",
    "                                                                                                  num_features)\n",
    "    if target_data is None:\n",
    "        for batch in range(num_batches):\n",
    "            output_data[batch,:,:] = input_data[(0+shift*batch):(0+shift*batch+window_length),:]\n",
    "        return output_data\n",
    "    else:\n",
    "        output_targets = np.repeat(np.nan, repeats = num_batches)\n",
    "        for batch in range(num_batches):\n",
    "            output_data[batch,:,:] = input_data[(0+shift*batch):(0+shift*batch+window_length),:]\n",
    "            output_targets[batch] = target_data[(shift*batch + (window_length-1))]\n",
    "        return output_data, output_targets"
   ]
  },
  {
   "cell_type": "code",
   "execution_count": 10,
   "metadata": {},
   "outputs": [],
   "source": [
    "def process_test_data(test_data_for_an_engine, window_length, shift, num_test_windows = 1):\n",
    "  \n",
    "    max_num_test_batches = int(np.floor((len(test_data_for_an_engine) - window_length)/shift)) + 1\n",
    "    if max_num_test_batches < num_test_windows:\n",
    "        required_len = (max_num_test_batches -1)* shift + window_length\n",
    "        batched_test_data_for_an_engine = process_input_data_with_targets(test_data_for_an_engine[-required_len:, :],\n",
    "                                                                          target_data = None,\n",
    "                                                                          window_length= window_length, shift = shift)\n",
    "        return batched_test_data_for_an_engine, max_num_test_batches\n",
    "    else:\n",
    "        required_len = (num_test_windows - 1) * shift + window_length\n",
    "        batched_test_data_for_an_engine = process_input_data_with_targets(test_data_for_an_engine[-required_len:, :],\n",
    "                                                                          target_data = None,\n",
    "                                                                          window_length= window_length, shift = shift)\n",
    "        return batched_test_data_for_an_engine, num_test_windows"
   ]
  },
  {
   "cell_type": "code",
   "execution_count": 11,
   "metadata": {},
   "outputs": [],
   "source": [
    "test_data = pd.read_csv('/Users/rahulchauhan/Downloads/CMaps/test_FD001.txt', sep = \"\\s+\", header = None,names=col_names )\n",
    "true_rul = pd.read_csv('/Users/rahulchauhan/Downloads/CMaps/RUL_FD001.txt', sep = '\\s+', header = None)\n",
    "\n",
    "window_length = 30\n",
    "shift = 1\n",
    "early_rul = 125           \n",
    "processed_train_data = []\n",
    "processed_train_targets = []\n",
    "num_test_windows = 5     \n",
    "processed_test_data = []\n",
    "num_test_windows_list = []\n",
    "\n",
    "columns_to_be_dropped = ['unit_number','opp_set_1','opp_set_2','opp_set_3','s_m1','s_m5','s_m6','s_m7','s_m10','s_m16','s_m18','s_m19']\n",
    "\n",
    "train_data_first_column = train [\"unit_number\"]\n",
    "test_data_first_column = test_data[\"unit_number\"]\n",
    "num_train_windows = (len(train) - window_length) // shift + 1"
   ]
  },
  {
   "cell_type": "code",
   "execution_count": 12,
   "metadata": {},
   "outputs": [],
   "source": [
    "from sklearn.preprocessing import StandardScaler\n",
    "from sklearn.model_selection import train_test_split"
   ]
  },
  {
   "cell_type": "code",
   "execution_count": 13,
   "metadata": {},
   "outputs": [
    {
     "data": {
      "text/html": [
       "<div>\n",
       "<style scoped>\n",
       "    .dataframe tbody tr th:only-of-type {\n",
       "        vertical-align: middle;\n",
       "    }\n",
       "\n",
       "    .dataframe tbody tr th {\n",
       "        vertical-align: top;\n",
       "    }\n",
       "\n",
       "    .dataframe thead th {\n",
       "        text-align: right;\n",
       "    }\n",
       "</style>\n",
       "<table border=\"1\" class=\"dataframe\">\n",
       "  <thead>\n",
       "    <tr style=\"text-align: right;\">\n",
       "      <th></th>\n",
       "      <th>unit_number</th>\n",
       "      <th>time_cycles</th>\n",
       "      <th>opp_set_1</th>\n",
       "      <th>opp_set_2</th>\n",
       "      <th>opp_set_3</th>\n",
       "      <th>s_m1</th>\n",
       "      <th>s_m2</th>\n",
       "      <th>s_m3</th>\n",
       "      <th>s_m4</th>\n",
       "      <th>s_m5</th>\n",
       "      <th>...</th>\n",
       "      <th>s_m12</th>\n",
       "      <th>s_m13</th>\n",
       "      <th>s_m14</th>\n",
       "      <th>s_m15</th>\n",
       "      <th>s_m16</th>\n",
       "      <th>s_m17</th>\n",
       "      <th>s_m18</th>\n",
       "      <th>s_m19</th>\n",
       "      <th>s_m20</th>\n",
       "      <th>s_m21</th>\n",
       "    </tr>\n",
       "  </thead>\n",
       "  <tbody>\n",
       "    <tr>\n",
       "      <th>0</th>\n",
       "      <td>1</td>\n",
       "      <td>1</td>\n",
       "      <td>-0.0007</td>\n",
       "      <td>-0.0004</td>\n",
       "      <td>100.0</td>\n",
       "      <td>518.67</td>\n",
       "      <td>641.82</td>\n",
       "      <td>1589.70</td>\n",
       "      <td>1400.60</td>\n",
       "      <td>14.62</td>\n",
       "      <td>...</td>\n",
       "      <td>521.66</td>\n",
       "      <td>2388.02</td>\n",
       "      <td>8138.62</td>\n",
       "      <td>8.4195</td>\n",
       "      <td>0.03</td>\n",
       "      <td>392</td>\n",
       "      <td>2388</td>\n",
       "      <td>100.0</td>\n",
       "      <td>39.06</td>\n",
       "      <td>23.4190</td>\n",
       "    </tr>\n",
       "    <tr>\n",
       "      <th>1</th>\n",
       "      <td>1</td>\n",
       "      <td>2</td>\n",
       "      <td>0.0019</td>\n",
       "      <td>-0.0003</td>\n",
       "      <td>100.0</td>\n",
       "      <td>518.67</td>\n",
       "      <td>642.15</td>\n",
       "      <td>1591.82</td>\n",
       "      <td>1403.14</td>\n",
       "      <td>14.62</td>\n",
       "      <td>...</td>\n",
       "      <td>522.28</td>\n",
       "      <td>2388.07</td>\n",
       "      <td>8131.49</td>\n",
       "      <td>8.4318</td>\n",
       "      <td>0.03</td>\n",
       "      <td>392</td>\n",
       "      <td>2388</td>\n",
       "      <td>100.0</td>\n",
       "      <td>39.00</td>\n",
       "      <td>23.4236</td>\n",
       "    </tr>\n",
       "    <tr>\n",
       "      <th>2</th>\n",
       "      <td>1</td>\n",
       "      <td>3</td>\n",
       "      <td>-0.0043</td>\n",
       "      <td>0.0003</td>\n",
       "      <td>100.0</td>\n",
       "      <td>518.67</td>\n",
       "      <td>642.35</td>\n",
       "      <td>1587.99</td>\n",
       "      <td>1404.20</td>\n",
       "      <td>14.62</td>\n",
       "      <td>...</td>\n",
       "      <td>522.42</td>\n",
       "      <td>2388.03</td>\n",
       "      <td>8133.23</td>\n",
       "      <td>8.4178</td>\n",
       "      <td>0.03</td>\n",
       "      <td>390</td>\n",
       "      <td>2388</td>\n",
       "      <td>100.0</td>\n",
       "      <td>38.95</td>\n",
       "      <td>23.3442</td>\n",
       "    </tr>\n",
       "    <tr>\n",
       "      <th>3</th>\n",
       "      <td>1</td>\n",
       "      <td>4</td>\n",
       "      <td>0.0007</td>\n",
       "      <td>0.0000</td>\n",
       "      <td>100.0</td>\n",
       "      <td>518.67</td>\n",
       "      <td>642.35</td>\n",
       "      <td>1582.79</td>\n",
       "      <td>1401.87</td>\n",
       "      <td>14.62</td>\n",
       "      <td>...</td>\n",
       "      <td>522.86</td>\n",
       "      <td>2388.08</td>\n",
       "      <td>8133.83</td>\n",
       "      <td>8.3682</td>\n",
       "      <td>0.03</td>\n",
       "      <td>392</td>\n",
       "      <td>2388</td>\n",
       "      <td>100.0</td>\n",
       "      <td>38.88</td>\n",
       "      <td>23.3739</td>\n",
       "    </tr>\n",
       "    <tr>\n",
       "      <th>4</th>\n",
       "      <td>1</td>\n",
       "      <td>5</td>\n",
       "      <td>-0.0019</td>\n",
       "      <td>-0.0002</td>\n",
       "      <td>100.0</td>\n",
       "      <td>518.67</td>\n",
       "      <td>642.37</td>\n",
       "      <td>1582.85</td>\n",
       "      <td>1406.22</td>\n",
       "      <td>14.62</td>\n",
       "      <td>...</td>\n",
       "      <td>522.19</td>\n",
       "      <td>2388.04</td>\n",
       "      <td>8133.80</td>\n",
       "      <td>8.4294</td>\n",
       "      <td>0.03</td>\n",
       "      <td>393</td>\n",
       "      <td>2388</td>\n",
       "      <td>100.0</td>\n",
       "      <td>38.90</td>\n",
       "      <td>23.4044</td>\n",
       "    </tr>\n",
       "  </tbody>\n",
       "</table>\n",
       "<p>5 rows × 26 columns</p>\n",
       "</div>"
      ],
      "text/plain": [
       "   unit_number  time_cycles  opp_set_1  opp_set_2  opp_set_3    s_m1    s_m2  \\\n",
       "0            1            1    -0.0007    -0.0004      100.0  518.67  641.82   \n",
       "1            1            2     0.0019    -0.0003      100.0  518.67  642.15   \n",
       "2            1            3    -0.0043     0.0003      100.0  518.67  642.35   \n",
       "3            1            4     0.0007     0.0000      100.0  518.67  642.35   \n",
       "4            1            5    -0.0019    -0.0002      100.0  518.67  642.37   \n",
       "\n",
       "      s_m3     s_m4   s_m5  ...   s_m12    s_m13    s_m14   s_m15  s_m16  \\\n",
       "0  1589.70  1400.60  14.62  ...  521.66  2388.02  8138.62  8.4195   0.03   \n",
       "1  1591.82  1403.14  14.62  ...  522.28  2388.07  8131.49  8.4318   0.03   \n",
       "2  1587.99  1404.20  14.62  ...  522.42  2388.03  8133.23  8.4178   0.03   \n",
       "3  1582.79  1401.87  14.62  ...  522.86  2388.08  8133.83  8.3682   0.03   \n",
       "4  1582.85  1406.22  14.62  ...  522.19  2388.04  8133.80  8.4294   0.03   \n",
       "\n",
       "   s_m17  s_m18  s_m19  s_m20    s_m21  \n",
       "0    392   2388  100.0  39.06  23.4190  \n",
       "1    392   2388  100.0  39.00  23.4236  \n",
       "2    390   2388  100.0  38.95  23.3442  \n",
       "3    392   2388  100.0  38.88  23.3739  \n",
       "4    393   2388  100.0  38.90  23.4044  \n",
       "\n",
       "[5 rows x 26 columns]"
      ]
     },
     "execution_count": 13,
     "metadata": {},
     "output_type": "execute_result"
    }
   ],
   "source": [
    "train.head()"
   ]
  },
  {
   "cell_type": "code",
   "execution_count": 14,
   "metadata": {},
   "outputs": [],
   "source": [
    "scaler = StandardScaler()\n",
    "train_data = scaler.fit_transform(train.drop(columns = columns_to_be_dropped))\n",
    "test_data = scaler.transform(test_data.drop(columns = columns_to_be_dropped))\n",
    "\n",
    "train_data = pd.DataFrame(data = np.c_[train_data_first_column, train_data])\n",
    "test_data = pd.DataFrame(data = np.c_[test_data_first_column, test_data])\n",
    "\n",
    "num_train_machines = len(train_data[0].unique())\n",
    "num_test_machines = len(test_data[0].unique())"
   ]
  },
  {
   "cell_type": "code",
   "execution_count": 15,
   "metadata": {},
   "outputs": [],
   "source": [
    "for i in np.arange(1, num_train_machines + 1):\n",
    "    temp_train_data = train_data[train_data[0] == i].drop(columns=[0]).values\n",
    "    \n",
    "    # Determine whether it is possible to extract training data with the specified window length.\n",
    "    if len(temp_train_data) < window_length:\n",
    "        print(f\"Train engine {i} doesn't have enough data for window_length of {window_length}\")\n",
    "        raise AssertionError(\"Window length is larger than number of data points for some engines. \"\n",
    "                             \"Try decreasing window length.\")\n",
    "        \n",
    "    temp_train_targets = process_targets(data_length=temp_train_data.shape[0], early_rul=early_rul)\n",
    "    data_for_a_machine, targets_for_a_machine = process_input_data_with_targets(temp_train_data, temp_train_targets, \n",
    "                                                                                window_length=window_length, shift=shift)\n",
    "    \n",
    "    processed_train_data.append(data_for_a_machine)\n",
    "    processed_train_targets.append(targets_for_a_machine)\n",
    "\n",
    "# Concatenate processed data and targets into numpy arrays\n",
    "processed_train_data = np.concatenate(processed_train_data)\n",
    "processed_train_targets = np.concatenate(processed_train_targets)"
   ]
  },
  {
   "cell_type": "code",
   "execution_count": 16,
   "metadata": {},
   "outputs": [],
   "source": [
    "for i in np.arange(1, num_test_machines + 1):\n",
    "    temp_test_data = test_data[test_data[0] == i].drop(columns = [0]).values\n",
    "    \n",
    "    # Determine whether it is possible to extract test data with the specified window length.\n",
    "    if (len(temp_test_data) < window_length):\n",
    "        print(\"Test engine {} doesn't have enough data for window_length of {}\".format(i, window_length))\n",
    "        raise AssertionError(\"Window length is larger than number of data points for some engines. \"\n",
    "                             \"Try decreasing window length.\")\n",
    "    \n",
    "    # Prepare test data\n",
    "    test_data_for_an_engine, num_windows = process_test_data(temp_test_data, window_length=window_length, shift = shift,\n",
    "                                                             num_test_windows = num_test_windows)\n",
    "    \n",
    "    processed_test_data.append(test_data_for_an_engine)\n",
    "    num_test_windows_list.append(num_windows)\n",
    "\n",
    "processed_test_data = np.concatenate(processed_test_data)\n",
    "true_rul = true_rul[0].values\n",
    "\n",
    "# Shuffle training data\n",
    "index = np.random.permutation(len(processed_train_targets))\n",
    "processed_train_data, processed_train_targets = processed_train_data[index], processed_train_targets[index]"
   ]
  },
  {
   "cell_type": "code",
   "execution_count": 17,
   "metadata": {},
   "outputs": [
    {
     "name": "stdout",
     "output_type": "stream",
     "text": [
      "Processed trianing data shape:  (17731, 30, 14)\n",
      "Processed training ruls shape:  (17731,)\n",
      "Processed test data shape:  (497, 30, 14)\n",
      "True RUL shape:  (100,)\n"
     ]
    }
   ],
   "source": [
    "print(\"Processed trianing data shape: \", processed_train_data.shape)\n",
    "print(\"Processed training ruls shape: \", processed_train_targets.shape)\n",
    "print(\"Processed test data shape: \", processed_test_data.shape)\n",
    "print(\"True RUL shape: \", true_rul.shape)"
   ]
  },
  {
   "cell_type": "code",
   "execution_count": 18,
   "metadata": {},
   "outputs": [
    {
     "name": "stdout",
     "output_type": "stream",
     "text": [
      "Processed train data shape:  (14184, 30, 14)\n",
      "Processed validation data shape:  (3547, 30, 14)\n",
      "Processed train targets shape:  (14184,)\n",
      "Processed validation targets shape:  (3547,)\n"
     ]
    }
   ],
   "source": [
    "processed_train_data, processed_val_data, processed_train_targets, processed_val_targets = train_test_split(processed_train_data,\n",
    "                                                                                                            processed_train_targets,\n",
    "                                                                                                            test_size = 0.2,\n",
    "                                                                                                            random_state = 83)\n",
    "print(\"Processed train data shape: \", processed_train_data.shape)\n",
    "print(\"Processed validation data shape: \", processed_val_data.shape)\n",
    "print(\"Processed train targets shape: \", processed_train_targets.shape)\n",
    "print(\"Processed validation targets shape: \", processed_val_targets.shape)"
   ]
  },
  {
   "cell_type": "code",
   "execution_count": 19,
   "metadata": {},
   "outputs": [
    {
     "name": "stderr",
     "output_type": "stream",
     "text": [
      "/Users/rahulchauhan/Library/Python/3.9/lib/python/site-packages/urllib3/__init__.py:34: NotOpenSSLWarning: urllib3 v2 only supports OpenSSL 1.1.1+, currently the 'ssl' module is compiled with 'LibreSSL 2.8.3'. See: https://github.com/urllib3/urllib3/issues/3020\n",
      "  warnings.warn(\n"
     ]
    }
   ],
   "source": [
    "import tensorflow as tf\n",
    "from tensorflow.keras import layers\n",
    "from tensorflow.keras.layers import Dense,Dropout,Conv1D,MaxPooling1D,LSTM,Flatten,BatchNormalization,Bidirectional\n",
    "from tensorflow.keras.models import Sequential"
   ]
  },
  {
   "cell_type": "code",
   "execution_count": 20,
   "metadata": {},
   "outputs": [],
   "source": [
    "import tensorflow as tf\n",
    "from tensorflow.keras.optimizers import legacy\n",
    "\n",
    "# Use legacy Adam optimizer\n",
    "optimizer = legacy.Adam(learning_rate=0.001)\n"
   ]
  },
  {
   "cell_type": "code",
   "execution_count": 21,
   "metadata": {},
   "outputs": [],
   "source": [
    "from sklearn.metrics import mean_squared_error"
   ]
  },
  {
   "cell_type": "code",
   "execution_count": 22,
   "metadata": {},
   "outputs": [],
   "source": [
    "from keras.layers import TimeDistributed, Flatten"
   ]
  },
  {
   "cell_type": "code",
   "execution_count": 23,
   "metadata": {},
   "outputs": [
    {
     "name": "stderr",
     "output_type": "stream",
     "text": [
      "WARNING:absl:At this time, the v2.11+ optimizer `tf.keras.optimizers.Adam` runs slowly on M1/M2 Macs, please use the legacy Keras optimizer instead, located at `tf.keras.optimizers.legacy.Adam`.\n"
     ]
    }
   ],
   "source": [
    "kernel_size = 3\n",
    "model = Sequential()\n",
    "intput_shape=(window_length, processed_train_data.shape[2])\n",
    "model.add(Conv1D(128, kernel_size=kernel_size, padding = \"same\", activation=\"relu\", input_shape = intput_shape))\n",
    "model.add(Dropout(0))\n",
    "model.add(MaxPooling1D(pool_size=2, padding='same'))\n",
    "model.add(Conv1D(128,kernel_size=kernel_size, padding = \"same\", activation=\"relu\"))\n",
    "model.add(Dropout(0))\n",
    "model.add(MaxPooling1D(pool_size=2, padding='same'))\n",
    "model.add(TimeDistributed(Flatten()))\n",
    "model.add(LSTM(units = 128, return_sequences=True))\n",
    "model.add(LSTM(units = 128, return_sequences=False))\n",
    "model.add(Dense(200, activation='relu'))\n",
    "model.add(Dropout(0.2))\n",
    "model.add(Dense(1, activation = 'linear'))\n",
    "opt = tf.keras.optimizers.Adam(learning_rate=0.001)\n",
    "model.compile(optimizer=opt, loss='mse')"
   ]
  },
  {
   "cell_type": "code",
   "execution_count": 24,
   "metadata": {},
   "outputs": [
    {
     "name": "stdout",
     "output_type": "stream",
     "text": [
      "\n",
      "Epoch 1: LearningRateScheduler setting learning rate to 0.001.\n",
      "Epoch 1/10\n",
      "222/222 - 5s - loss: 2031.6490 - val_loss: 323.2769 - lr: 0.0010 - 5s/epoch - 25ms/step\n",
      "\n",
      "Epoch 2: LearningRateScheduler setting learning rate to 0.001.\n",
      "Epoch 2/10\n",
      "222/222 - 4s - loss: 247.6604 - val_loss: 193.8854 - lr: 0.0010 - 4s/epoch - 18ms/step\n",
      "\n",
      "Epoch 3: LearningRateScheduler setting learning rate to 0.001.\n",
      "Epoch 3/10\n",
      "222/222 - 4s - loss: 184.0537 - val_loss: 161.0054 - lr: 0.0010 - 4s/epoch - 17ms/step\n",
      "\n",
      "Epoch 4: LearningRateScheduler setting learning rate to 0.001.\n",
      "Epoch 4/10\n",
      "222/222 - 4s - loss: 153.5699 - val_loss: 123.8733 - lr: 0.0010 - 4s/epoch - 16ms/step\n",
      "\n",
      "Epoch 5: LearningRateScheduler setting learning rate to 0.001.\n",
      "Epoch 5/10\n",
      "222/222 - 3s - loss: 127.0340 - val_loss: 108.9916 - lr: 0.0010 - 3s/epoch - 16ms/step\n",
      "\n",
      "Epoch 6: LearningRateScheduler setting learning rate to 0.0001.\n",
      "Epoch 6/10\n",
      "222/222 - 4s - loss: 91.6312 - val_loss: 76.1442 - lr: 1.0000e-04 - 4s/epoch - 16ms/step\n",
      "\n",
      "Epoch 7: LearningRateScheduler setting learning rate to 0.0001.\n",
      "Epoch 7/10\n",
      "222/222 - 4s - loss: 85.9353 - val_loss: 71.3579 - lr: 1.0000e-04 - 4s/epoch - 17ms/step\n",
      "\n",
      "Epoch 8: LearningRateScheduler setting learning rate to 0.0001.\n",
      "Epoch 8/10\n",
      "222/222 - 4s - loss: 80.7930 - val_loss: 66.5499 - lr: 1.0000e-04 - 4s/epoch - 16ms/step\n",
      "\n",
      "Epoch 9: LearningRateScheduler setting learning rate to 0.0001.\n",
      "Epoch 9/10\n",
      "222/222 - 4s - loss: 77.5828 - val_loss: 63.2235 - lr: 1.0000e-04 - 4s/epoch - 16ms/step\n",
      "\n",
      "Epoch 10: LearningRateScheduler setting learning rate to 0.0001.\n",
      "Epoch 10/10\n",
      "222/222 - 4s - loss: 74.3735 - val_loss: 62.0430 - lr: 1.0000e-04 - 4s/epoch - 18ms/step\n"
     ]
    }
   ],
   "source": [
    "def scheduler(epoch):\n",
    "    if epoch < 5:\n",
    "        return 0.001\n",
    "    else:\n",
    "        return 0.0001\n",
    "callback = tf.keras.callbacks.LearningRateScheduler(scheduler, verbose = 1)\n",
    "#model = create_compiled_model()\n",
    "history = model.fit(processed_train_data, processed_train_targets, epochs = 10,\n",
    "                    validation_data = (processed_val_data, processed_val_targets),\n",
    "                    callbacks = callback,\n",
    "                    batch_size = 64, verbose = 2)"
   ]
  },
  {
   "cell_type": "code",
   "execution_count": 25,
   "metadata": {},
   "outputs": [
    {
     "name": "stdout",
     "output_type": "stream",
     "text": [
      "Model: \"sequential\"\n",
      "_________________________________________________________________\n",
      " Layer (type)                Output Shape              Param #   \n",
      "=================================================================\n",
      " conv1d (Conv1D)             (None, 30, 128)           5504      \n",
      "                                                                 \n",
      " dropout (Dropout)           (None, 30, 128)           0         \n",
      "                                                                 \n",
      " max_pooling1d (MaxPooling1  (None, 15, 128)           0         \n",
      " D)                                                              \n",
      "                                                                 \n",
      " conv1d_1 (Conv1D)           (None, 15, 128)           49280     \n",
      "                                                                 \n",
      " dropout_1 (Dropout)         (None, 15, 128)           0         \n",
      "                                                                 \n",
      " max_pooling1d_1 (MaxPoolin  (None, 8, 128)            0         \n",
      " g1D)                                                            \n",
      "                                                                 \n",
      " time_distributed (TimeDist  (None, 8, 128)            0         \n",
      " ributed)                                                        \n",
      "                                                                 \n",
      " lstm (LSTM)                 (None, 8, 128)            131584    \n",
      "                                                                 \n",
      " lstm_1 (LSTM)               (None, 128)               131584    \n",
      "                                                                 \n",
      " dense (Dense)               (None, 200)               25800     \n",
      "                                                                 \n",
      " dropout_2 (Dropout)         (None, 200)               0         \n",
      "                                                                 \n",
      " dense_1 (Dense)             (None, 1)                 201       \n",
      "                                                                 \n",
      "=================================================================\n",
      "Total params: 343953 (1.31 MB)\n",
      "Trainable params: 343953 (1.31 MB)\n",
      "Non-trainable params: 0 (0.00 Byte)\n",
      "_________________________________________________________________\n"
     ]
    }
   ],
   "source": [
    "model.summary()"
   ]
  },
  {
   "cell_type": "code",
   "execution_count": 26,
   "metadata": {},
   "outputs": [
    {
     "name": "stdout",
     "output_type": "stream",
     "text": [
      "16/16 [==============================] - 0s 3ms/step\n",
      "RMSE:  14.488865032397364\n"
     ]
    }
   ],
   "source": [
    "rul_pred = model.predict(processed_test_data).reshape(-1)\n",
    "preds_for_each_engine = np.split(rul_pred, np.cumsum(num_test_windows_list)[:-1])\n",
    "mean_pred_for_each_engine = [np.average(ruls_for_each_engine, weights = np.repeat(1/num_windows, num_windows)) \n",
    "                             for ruls_for_each_engine, num_windows in zip(preds_for_each_engine, num_test_windows_list)]\n",
    "RMSE = np.sqrt(mean_squared_error(true_rul, mean_pred_for_each_engine))\n",
    "print(\"RMSE: \", RMSE)"
   ]
  },
  {
   "cell_type": "code",
   "execution_count": 27,
   "metadata": {},
   "outputs": [
    {
     "name": "stdout",
     "output_type": "stream",
     "text": [
      "RMSE (Taking only last examples):  15.288546948503276\n"
     ]
    }
   ],
   "source": [
    "indices_of_last_examples = np.cumsum(num_test_windows_list) - 1\n",
    "preds_for_last_example = np.concatenate(preds_for_each_engine)[indices_of_last_examples]\n",
    "\n",
    "RMSE_new = np.sqrt(mean_squared_error(true_rul, preds_for_last_example))\n",
    "print(\"RMSE (Taking only last examples): \", RMSE_new)\n"
   ]
  },
  {
   "cell_type": "code",
   "execution_count": 28,
   "metadata": {},
   "outputs": [
    {
     "name": "stdout",
     "output_type": "stream",
     "text": [
      "S-score:  343.9804326854027\n"
     ]
    }
   ],
   "source": [
    "def compute_s_score(rul_true, rul_pred):\n",
    "    \"\"\"\n",
    "    Both rul_true and rul_pred should be 1D numpy arrays.\n",
    "    \"\"\"\n",
    "    diff = rul_pred - rul_true\n",
    "    return np.sum(np.where(diff < 0, np.exp(-diff/13)-1, np.exp(diff/10)-1))\n",
    "s_score = compute_s_score(true_rul, preds_for_last_example)\n",
    "print(\"S-score: \", s_score)"
   ]
  },
  {
   "cell_type": "code",
   "execution_count": 29,
   "metadata": {},
   "outputs": [],
   "source": [
    "def create_compiled_model(lr=0.001, drop_CNN=0, drop_dense=0.2, kernel_size=3):\n",
    "    model = Sequential()\n",
    "    intput_shape=(window_length, processed_train_data.shape[2])\n",
    "    model.add(Conv1D(128, kernel_size=kernel_size, padding = \"same\", activation=\"relu\", input_shape = intput_shape))\n",
    "    model.add(Dropout(drop_CNN))\n",
    "    model.add(MaxPooling1D(pool_size=2, padding='same'))\n",
    "    model.add(Conv1D(128,kernel_size=kernel_size, padding = \"same\", activation=\"relu\"))\n",
    "    model.add(Dropout(drop_CNN))\n",
    "    model.add(MaxPooling1D(pool_size=2, padding='same'))\n",
    "    model.add(TimeDistributed(Flatten()))\n",
    "    model.add(LSTM(units = 128, return_sequences=True))\n",
    "    model.add(LSTM(units = 128, return_sequences=False))\n",
    "    model.add(Dense(200, activation='relu'))\n",
    "    model.add(Dropout(drop_CNN))\n",
    "    model.add(Dense(1, activation = 'linear'))\n",
    "    opt = tf.keras.optimizers.Adam(learning_rate=lr)\n",
    "    model.compile(optimizer=opt, loss='mse')\n",
    "\n",
    "    return model"
   ]
  },
  {
   "cell_type": "code",
   "execution_count": 30,
   "metadata": {},
   "outputs": [
    {
     "name": "stderr",
     "output_type": "stream",
     "text": [
      "WARNING:absl:At this time, the v2.11+ optimizer `tf.keras.optimizers.Adam` runs slowly on M1/M2 Macs, please use the legacy Keras optimizer instead, located at `tf.keras.optimizers.legacy.Adam`.\n"
     ]
    },
    {
     "name": "stdout",
     "output_type": "stream",
     "text": [
      "\n",
      "Epoch 1: LearningRateScheduler setting learning rate to 0.001.\n",
      "Epoch 1/10\n",
      "222/222 - 5s - loss: 2317.7764 - val_loss: 1779.7469 - lr: 0.0010 - 5s/epoch - 23ms/step\n",
      "\n",
      "Epoch 2: LearningRateScheduler setting learning rate to 0.001.\n",
      "Epoch 2/10\n",
      "222/222 - 4s - loss: 732.1054 - val_loss: 264.7200 - lr: 0.0010 - 4s/epoch - 17ms/step\n",
      "\n",
      "Epoch 3: LearningRateScheduler setting learning rate to 0.001.\n",
      "Epoch 3/10\n",
      "222/222 - 4s - loss: 179.8972 - val_loss: 163.8669 - lr: 0.0010 - 4s/epoch - 16ms/step\n",
      "\n",
      "Epoch 4: LearningRateScheduler setting learning rate to 0.001.\n",
      "Epoch 4/10\n",
      "222/222 - 4s - loss: 136.0746 - val_loss: 156.7845 - lr: 0.0010 - 4s/epoch - 17ms/step\n",
      "\n",
      "Epoch 5: LearningRateScheduler setting learning rate to 0.001.\n",
      "Epoch 5/10\n",
      "222/222 - 4s - loss: 103.8050 - val_loss: 95.2464 - lr: 0.0010 - 4s/epoch - 17ms/step\n",
      "\n",
      "Epoch 6: LearningRateScheduler setting learning rate to 0.0001.\n",
      "Epoch 6/10\n",
      "222/222 - 4s - loss: 66.5498 - val_loss: 76.7227 - lr: 1.0000e-04 - 4s/epoch - 18ms/step\n",
      "\n",
      "Epoch 7: LearningRateScheduler setting learning rate to 0.0001.\n",
      "Epoch 7/10\n",
      "222/222 - 4s - loss: 59.7526 - val_loss: 68.6172 - lr: 1.0000e-04 - 4s/epoch - 18ms/step\n",
      "\n",
      "Epoch 8: LearningRateScheduler setting learning rate to 0.0001.\n",
      "Epoch 8/10\n",
      "222/222 - 4s - loss: 55.5297 - val_loss: 67.3714 - lr: 1.0000e-04 - 4s/epoch - 17ms/step\n",
      "\n",
      "Epoch 9: LearningRateScheduler setting learning rate to 0.0001.\n",
      "Epoch 9/10\n",
      "222/222 - 4s - loss: 52.0994 - val_loss: 62.4501 - lr: 1.0000e-04 - 4s/epoch - 17ms/step\n",
      "\n",
      "Epoch 10: LearningRateScheduler setting learning rate to 0.0001.\n",
      "Epoch 10/10\n",
      "222/222 - 4s - loss: 48.7332 - val_loss: 59.2085 - lr: 1.0000e-04 - 4s/epoch - 18ms/step\n"
     ]
    }
   ],
   "source": [
    "def scheduler(epoch):\n",
    "    if epoch < 5:\n",
    "        return 0.001\n",
    "    else:\n",
    "        return 0.0001\n",
    "callback = tf.keras.callbacks.LearningRateScheduler(scheduler, verbose = 1)\n",
    "model = create_compiled_model()\n",
    "history = model.fit(processed_train_data, processed_train_targets, epochs = 10,\n",
    "                    validation_data = (processed_val_data, processed_val_targets),\n",
    "                    callbacks = callback,\n",
    "                    batch_size = 64, verbose = 2)"
   ]
  },
  {
   "cell_type": "code",
   "execution_count": 31,
   "metadata": {},
   "outputs": [
    {
     "name": "stdout",
     "output_type": "stream",
     "text": [
      "16/16 [==============================] - 0s 4ms/step\n",
      "RMSE:  14.637747972796554\n"
     ]
    }
   ],
   "source": [
    "rul_pred = model.predict(processed_test_data).reshape(-1)\n",
    "preds_for_each_engine = np.split(rul_pred, np.cumsum(num_test_windows_list)[:-1])\n",
    "mean_pred_for_each_engine = [np.average(ruls_for_each_engine, weights = np.repeat(1/num_windows, num_windows)) \n",
    "                             for ruls_for_each_engine, num_windows in zip(preds_for_each_engine, num_test_windows_list)]\n",
    "RMSE = np.sqrt(mean_squared_error(true_rul, mean_pred_for_each_engine))\n",
    "print(\"RMSE: \", RMSE)"
   ]
  },
  {
   "cell_type": "code",
   "execution_count": 32,
   "metadata": {},
   "outputs": [
    {
     "name": "stdout",
     "output_type": "stream",
     "text": [
      "   loss_RMSE  val_loss_RMSE\n",
      "0      48.14          42.19\n",
      "1      27.06          16.27\n",
      "2      13.41          12.80\n",
      "3      11.67          12.52\n",
      "4      10.19           9.76\n",
      "5       8.16           8.76\n",
      "6       7.73           8.28\n",
      "7       7.45           8.21\n",
      "8       7.22           7.90\n",
      "9       6.98           7.69\n"
     ]
    }
   ],
   "source": [
    "loss = history.history['loss']\n",
    "val_loss = history.history['val_loss']\n",
    "\n",
    "# Converting MSE to RMSE\n",
    "loss_rmse = [round(val ** 0.5,2) for val in loss]\n",
    "val_loss_rmse = [round(val ** 0.5,2) for val in val_loss]\n",
    "\n",
    "# Creating a DataFrame\n",
    "loss_df = pd.DataFrame({'loss_RMSE': loss_rmse, 'val_loss_RMSE': val_loss_rmse})\n",
    "output = '/Users/rahulchauhan/Documents/IIT_G/MTP/LSTM + CNN Series/FD001.csv'\n",
    "loss_df.to_csv(output,index = False)\n",
    "# Printing the DataFrame\n",
    "print(loss_df)"
   ]
  },
  {
   "cell_type": "code",
   "execution_count": 33,
   "metadata": {},
   "outputs": [
    {
     "data": {
      "text/plain": [
       "<matplotlib.legend.Legend at 0x32b364fa0>"
      ]
     },
     "execution_count": 33,
     "metadata": {},
     "output_type": "execute_result"
    },
    {
     "data": {
      "image/png": "[encoded data removed]",
      "text/plain": [
       "<Figure size 640x480 with 1 Axes>"
      ]
     },
     "metadata": {},
     "output_type": "display_data"
    }
   ],
   "source": [
    "plt.plot(history.history['loss'],label ='Training Loss')\n",
    "plt.plot(history.history['val_loss'],label = 'Validation Loss')\n",
    "plt.title('Training and Validation Loss over epochs for FD001')\n",
    "plt.xlabel('Epochs')\n",
    "plt.ylabel('Loss')\n",
    "plt.legend()"
   ]
  },
  {
   "cell_type": "code",
   "execution_count": null,
   "metadata": {},
   "outputs": [],
   "source": []
  }
 ],
 "metadata": {
  "kernelspec": {
   "display_name": "Python 3",
   "language": "python",
   "name": "python3"
  },
  "language_info": {
   "codemirror_mode": {
    "name": "ipython",
    "version": 3
   },
   "file_extension": ".py",
   "mimetype": "text/x-python",
   "name": "python",
   "nbconvert_exporter": "python",
   "pygments_lexer": "ipython3",
   "version": "3.9.6"
  }
 },
 "nbformat": 4,
 "nbformat_minor": 2
}
